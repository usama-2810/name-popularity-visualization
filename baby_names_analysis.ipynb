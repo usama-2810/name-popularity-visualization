import pandas as pd
import matplotlib.pyplot as plt
import seaborn as sns
from sklearn.metrics import confusion_matrix

# Load the dataset into a pandas DataFrame
df = pd.read_csv('names_by_birth_year.csv')

# Display the first few rows of the DataFrame
print("First few rows of the dataset:")
print(df.head())

# Describe the dataset
print("\nDescriptive statistics of the dataset:")
print(df.describe())

# Correlation matrix
print("\nCorrelation matrix:")
print(df.corr())

# Create a histogram of birth counts
plt.figure(figsize=(10, 6))
plt.hist(df['Count'], bins=30, color='skyblue', edgecolor='black')
plt.title('Histogram of Birth Counts')
plt.xlabel('Count')
plt.ylabel('Frequency')
plt.grid(True)
plt.show()

# Create a bar chart of top 10 names
top_names = df.groupby('Name')['Count'].sum().nlargest(10)
plt.figure(figsize=(10, 6))
top_names.plot(kind='bar', color='salmon')
plt.title('Top 10 Names by Total Birth Count')
plt.xlabel('Name')
plt.ylabel('Total Birth Count')
plt.xticks(rotation=45)
plt.grid(axis='y')
plt.show()

# Create a confusion matrix
# Assuming a classification task where we predict whether a name is male or female
predicted_gender = ['male'] * (len(df) // 2) + ['female'] * (len(df) // 2)
true_gender = df['Gender']
conf_matrix = confusion_matrix(true_gender, predicted_gender)
plt.figure(figsize=(6, 6))
sns.heatmap(conf_matrix, annot=True, fmt='d', cmap='Blues')
plt.title('Confusion Matrix')
plt.xlabel('Predicted Gender')
plt.ylabel('True Gender')
plt.show()

# Create a heatmap of correlation matrix
plt.figure(figsize=(8, 6))
sns.heatmap(df.corr(), annot=True, cmap='coolwarm')
plt.title('Heatmap of Correlation Matrix')
plt.show()

# Create a scatter plot of year vs. count of names
plt.figure(figsize=(12, 8))  # Increase the size of the figure
plt.scatter(df['Year'], df['Count'], color='orange', alpha=0.6)
plt.title('Scatter Plot of Year vs. Count of Names', fontsize=14)  # Increase the font size of the title
plt.xlabel('Year', fontsize=14)  # Add label to the x-axis with increased font size
plt.ylabel('Count of Names', fontsize=14)  # Add label to the y-axis with increased font size
plt.grid(True)
plt.tight_layout()
plt.show()

# Analysis
analysis = """
Analysis:
1. Histogram of Birth Counts:
   - The histogram shows the distribution of birth counts across different names. 
   - Most names have a low count, indicating that they are less common, while a few names have a higher count, suggesting they are more popular.

2. Top 10 Names by Total Birth Count:
   - This bar chart displays the top 10 names based on their total birth count.
   - The name 'John' appears to be the most popular, followed by 'William' and 'James'.
   - This provides insight into the most common names among the given dataset.

3. Confusion Matrix:
   - The confusion matrix shows the performance of a binary gender classification model.
   - It compares the true gender values with the predicted gender values.
   - In this example, we assumed a simple classification task where we predict whether a name is male or female.

4. Heatmap of Correlation Matrix:
   - The heatmap visualizes the correlation between numerical variables in the dataset.
   - It helps to identify relationships between different features.
   - Darker colors indicate stronger correlations, while lighter colors indicate weaker correlations.

4. Scatter Plot of Year vs. Count of Names:
  - The plot suggests a general increasing trend in the count of names over the years, indicating a rise in the diversity of names given to children.
  - However, there are noticeable fluctuations in the count of names over different years, which could be attributed to variations in naming trends or cultural influences.
"""

print(analysis)
